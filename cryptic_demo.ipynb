{
 "metadata": {
  "name": ""
 },
 "nbformat": 3,
 "nbformat_minor": 0,
 "worksheets": [
  {
   "cells": [
    {
     "cell_type": "code",
     "collapsed": false,
     "input": [
      "from pycryptics.grammar.clue_parse import generate_clues\n",
      "from pycryptics.solve_clue import Constraints"
     ],
     "language": "python",
     "metadata": {},
     "outputs": [
      {
       "output_type": "stream",
       "stream": "stdout",
       "text": [
        "Loading indicators from file...\n",
        "...done.\n",
        "Loading synonyms from file...\n",
        "...done."
       ]
      },
      {
       "output_type": "stream",
       "stream": "stdout",
       "text": [
        "\n",
        "Loading ngrams from file...\n",
        "...done."
       ]
      },
      {
       "output_type": "stream",
       "stream": "stdout",
       "text": [
        "\n"
       ]
      }
     ],
     "prompt_number": 1
    },
    {
     "cell_type": "markdown",
     "metadata": {},
     "source": [
      "Let's demonstrate what we can do with a simple cryptic clue. Here's our clue, broken up into a list of words:"
     ]
    },
    {
     "cell_type": "code",
     "collapsed": false,
     "input": [
      "phrases = 'spin broken shingle'.split()"
     ],
     "language": "python",
     "metadata": {},
     "outputs": [],
     "prompt_number": 2
    },
    {
     "cell_type": "markdown",
     "metadata": {},
     "source": [
      "We also have constraints on the final answer, namely that it will have 7 letters and the answer won't be any of the words which directly appear in the clue. "
     ]
    },
    {
     "cell_type": "code",
     "collapsed": false,
     "input": [
      "con = Constraints(phrases=phrases,\n",
      "                  lengths=(7,),\n",
      "                  pattern='',\n",
      "                  known_answer=None)\n"
     ],
     "language": "python",
     "metadata": {},
     "outputs": [],
     "prompt_number": 3
    },
    {
     "cell_type": "markdown",
     "metadata": {},
     "source": [
      "Now we can generate all possible clue interpretations of those phrases:"
     ]
    },
    {
     "cell_type": "code",
     "collapsed": false,
     "input": [
      "clues = generate_clues(con)"
     ],
     "language": "python",
     "metadata": {},
     "outputs": [],
     "prompt_number": 4
    },
    {
     "cell_type": "markdown",
     "metadata": {},
     "source": [
      "For example, here's one interpretation:"
     ]
    },
    {
     "cell_type": "code",
     "collapsed": false,
     "input": [
      "print clues[0]"
     ],
     "language": "python",
     "metadata": {},
     "outputs": [
      {
       "output_type": "stream",
       "stream": "stdout",
       "text": [
        "(top (clue_arg (lit spin)) (clue_arg (syn broken)) (d shingle))\n"
       ]
      }
     ],
     "prompt_number": 5
    },
    {
     "cell_type": "markdown",
     "metadata": {},
     "source": [
      "And another:"
     ]
    },
    {
     "cell_type": "code",
     "collapsed": false,
     "input": [
      "print clues[1]"
     ],
     "language": "python",
     "metadata": {},
     "outputs": [
      {
       "output_type": "stream",
       "stream": "stdout",
       "text": [
        "(top (clue_arg (lit spin)) (clue_arg (first broken)) (d shingle))\n"
       ]
      }
     ],
     "prompt_number": 6
    },
    {
     "cell_type": "markdown",
     "metadata": {},
     "source": [
      "Here are all the possible ways 'spin broken shingle' could be interpreted:"
     ]
    },
    {
     "cell_type": "code",
     "collapsed": false,
     "input": [
      "for c in clues:\n",
      "    print c"
     ],
     "language": "python",
     "metadata": {},
     "outputs": [
      {
       "output_type": "stream",
       "stream": "stdout",
       "text": [
        "(top (clue_arg (lit spin)) (clue_arg (syn broken)) (d shingle))\n",
        "(top (clue_arg (lit spin)) (clue_arg (first broken)) (d shingle))\n",
        "(top (clue_arg (first spin)) (clue_arg (lit broken)) (d shingle))\n",
        "(top (clue_arg (syn spin)) (clue_arg (lit broken)) (d shingle))\n",
        "(top (clue_arg (lit spin)) (clue_arg (lit broken)) (d shingle))\n",
        "(top (clue_arg (syn spin)) (clue_arg (first broken)) (d shingle))\n",
        "(top (clue_arg (first spin)) (clue_arg (syn broken)) (d shingle))\n",
        "(top (clue_arg (syn spin)) (clue_arg (syn broken)) (d shingle))\n",
        "(top (clue_arg (first spin)) (clue_arg (first broken)) (d shingle))\n",
        "(top (clue_arg (rev (rev_ spin) (rev_arg (syn broken)))) (d shingle))\n",
        "(top (clue_arg (rev (rev_ spin) (rev_arg (lit broken)))) (d shingle))\n",
        "(top (clue_arg (sub (sub_ spin) (sub_arg (syn broken)))) (d shingle))\n",
        "(top (clue_arg (sub (sub_ spin) (sub_arg (lit broken)))) (d shingle))\n",
        "(top (clue_arg (ana (ana_arg (lit spin)) (ana_ broken))) (d shingle))\n",
        "(top (clue_arg (ana (ana_ spin) (ana_arg (lit broken)))) (d shingle))\n",
        "(top (d spin) (clue_arg (ana (ana_ broken) (ana_arg (lit shingle)))))\n",
        "(top (d spin) (clue_arg (ana (ana_arg (lit broken)) (ana_ shingle))))\n",
        "(top (d spin) (clue_arg (lit broken)) (clue_arg (lit shingle)))\n",
        "(top (d spin) (clue_arg (syn broken)) (clue_arg (first shingle)))\n",
        "(top (d spin) (clue_arg (first broken)) (clue_arg (lit shingle)))\n",
        "(top (d spin) (clue_arg (syn broken)) (clue_arg (syn shingle)))\n",
        "(top (d spin) (clue_arg (first broken)) (clue_arg (syn shingle)))\n",
        "(top (d spin) (clue_arg (first broken)) (clue_arg (first shingle)))\n",
        "(top (d spin) (clue_arg (syn broken)) (clue_arg (lit shingle)))\n",
        "(top (d spin) (clue_arg (lit broken)) (clue_arg (syn shingle)))\n",
        "(top (d spin) (clue_arg (lit broken)) (clue_arg (first shingle)))\n"
       ]
      }
     ],
     "prompt_number": 7
    },
    {
     "cell_type": "markdown",
     "metadata": {},
     "source": [
      "Let's try solving one of these clues:"
     ]
    },
    {
     "cell_type": "code",
     "collapsed": false,
     "input": [
      "print clues[0].answers"
     ],
     "language": "python",
     "metadata": {},
     "outputs": [
      {
       "ename": "ClueUnsolvableError",
       "evalue": "This clue has no solutions under the given constraints: Constraints(phrases=['spin', 'broken', 'shingle'], lengths=(7,), pattern='', known_answer=None)",
       "output_type": "pyerr",
       "traceback": [
        "\u001b[0;31m---------------------------------------------------------------------------\u001b[0m\n\u001b[0;31mClueUnsolvableError\u001b[0m                       Traceback (most recent call last)",
        "\u001b[0;32m<ipython-input-8-3c2b726e7d91>\u001b[0m in \u001b[0;36m<module>\u001b[0;34m()\u001b[0m\n\u001b[0;32m----> 1\u001b[0;31m \u001b[0;32mprint\u001b[0m \u001b[0mclues\u001b[0m\u001b[0;34m[\u001b[0m\u001b[0;36m0\u001b[0m\u001b[0;34m]\u001b[0m\u001b[0;34m.\u001b[0m\u001b[0manswers\u001b[0m\u001b[0;34m\u001b[0m\u001b[0m\n\u001b[0m",
        "\u001b[0;32m/Users/rdeits/AeroFS/Projects/Cryptics/pycryptics/grammar/clue_tree.py\u001b[0m in \u001b[0;36manswers\u001b[0;34m(self)\u001b[0m\n\u001b[1;32m     95\u001b[0m             \u001b[0mself\u001b[0m\u001b[0;34m.\u001b[0m\u001b[0msolve\u001b[0m\u001b[0;34m(\u001b[0m\u001b[0;34m)\u001b[0m\u001b[0;34m\u001b[0m\u001b[0m\n\u001b[1;32m     96\u001b[0m         \u001b[0;32mif\u001b[0m \u001b[0mself\u001b[0m\u001b[0;34m.\u001b[0m\u001b[0m_answers\u001b[0m \u001b[0;34m==\u001b[0m \u001b[0;34m{\u001b[0m\u001b[0;34m}\u001b[0m\u001b[0;34m:\u001b[0m\u001b[0;34m\u001b[0m\u001b[0m\n\u001b[0;32m---> 97\u001b[0;31m             \u001b[0;32mraise\u001b[0m \u001b[0mClueUnsolvableError\u001b[0m\u001b[0;34m(\u001b[0m\u001b[0;34m\"This clue has no solutions under the given constraints: \"\u001b[0m \u001b[0;34m+\u001b[0m \u001b[0mstr\u001b[0m\u001b[0;34m(\u001b[0m\u001b[0mself\u001b[0m\u001b[0;34m.\u001b[0m\u001b[0m_constraints\u001b[0m\u001b[0;34m)\u001b[0m\u001b[0;34m)\u001b[0m\u001b[0;34m\u001b[0m\u001b[0m\n\u001b[0m\u001b[1;32m     98\u001b[0m         \u001b[0;32mreturn\u001b[0m \u001b[0mself\u001b[0m\u001b[0;34m.\u001b[0m\u001b[0m_answers\u001b[0m\u001b[0;34m\u001b[0m\u001b[0m\n\u001b[1;32m     99\u001b[0m \u001b[0;34m\u001b[0m\u001b[0m\n",
        "\u001b[0;31mClueUnsolvableError\u001b[0m: This clue has no solutions under the given constraints: Constraints(phrases=['spin', 'broken', 'shingle'], lengths=(7,), pattern='', known_answer=None)"
       ]
      }
     ],
     "prompt_number": 8
    },
    {
     "cell_type": "markdown",
     "metadata": {},
     "source": [
      "That clue had no answers which matched our constraints. This raises an exception so that when we're solving a clue, any of its subparts being unsolvable will trigger the exception and let us skip out of solving the other subparts.\n",
      "\n",
      "Let's look at the subparts of a clue. Each clue is a tree, and we can access the children of any node in the tree using the [] notation."
     ]
    },
    {
     "cell_type": "code",
     "collapsed": false,
     "input": [
      "print clues[9]"
     ],
     "language": "python",
     "metadata": {},
     "outputs": [
      {
       "output_type": "stream",
       "stream": "stdout",
       "text": [
        "(top (clue_arg (rev (rev_ spin) (rev_arg (syn broken)))) (d shingle))\n"
       ]
      }
     ],
     "prompt_number": 26
    },
    {
     "cell_type": "code",
     "collapsed": false,
     "input": [
      "print clues[9][0]"
     ],
     "language": "python",
     "metadata": {},
     "outputs": [
      {
       "output_type": "stream",
       "stream": "stdout",
       "text": [
        "(clue_arg (rev (rev_ spin) (rev_arg (syn broken))))\n"
       ]
      }
     ],
     "prompt_number": 27
    },
    {
     "cell_type": "code",
     "collapsed": false,
     "input": [
      "print clues[9][0][0]"
     ],
     "language": "python",
     "metadata": {},
     "outputs": [
      {
       "output_type": "stream",
       "stream": "stdout",
       "text": [
        "(rev (rev_ spin) (rev_arg (syn broken)))\n"
       ]
      }
     ],
     "prompt_number": 29
    },
    {
     "cell_type": "code",
     "collapsed": false,
     "input": [
      "print clues[9][0][0].answers"
     ],
     "language": "python",
     "metadata": {},
     "outputs": [
      {
       "output_type": "stream",
       "stream": "stdout",
       "text": [
        "{'emat': ['', 'tame'], 'detsub': ['', 'busted'], 'deyortsed': ['', 'destroyed'], 'tespu': ['', 'upset'], 'degluvid': ['', 'divulged'], 'tpeknu': ['', 'unkept'], 'detcarfni': ['', 'infracted'], 'luftif': ['', 'fitful'], 'depoleved': ['', 'developed'], 'detomed': ['', 'demoted'], 'desuap': ['', 'paused'], 'degamad': ['', 'damaged'], 'nevig': ['', 'given'], 'dettod': ['', 'dotted'], 'deliaf': ['', 'failed'], 'wol': ['', 'low'], 'dehguor': ['', 'roughed'], 'deid': ['', 'died'], 'depmub': ['', 'bumped'], 'demat': ['', 'tamed'], 'detaloiv': ['', 'violated'], 'delaever': ['', 'revealed'], 'dehsad': ['', 'dashed'], 'depparwnu': ['', 'unwrapped'], 'dedneffo': ['', 'offended'], 'detageler': ['', 'relegated'], 'depmad': ['', 'damped'], 'tilps': ['', 'split'], 'deggur': ['', 'rugged'], 'desufnoc': ['', 'confused'], 'dehcaerb': ['', 'breached'], 'tcefrepmi': ['', 'imperfect'], 'dehsurc': ['', 'crushed'], 'denepmad': ['', 'dampened'], 'detarapes': ['', 'separated'], 'detrap': ['', 'parted'], 'dehsams': ['', 'smashed'], 'desolcsid': ['', 'disclosed'], 'despalloc': ['', 'collapsed'], 'enog': ['', 'gone'], 'detlah': ['', 'halted'], 'htoomsnu': ['', 'unsmooth'], 'derutcarf': ['', 'fractured'], 'deniur': ['', 'ruined'], 'denekaew': ['', 'weakened'], 'derednuof': ['', 'foundered'], 'deppots': ['', 'stopped'], 'denetfos': ['', 'softened'], 'deriapmi': ['', 'impaired'], 'delbmuh': ['', 'humbled'], 'nrow': ['', 'worn'], 'detpure': ['', 'erupted'], 'tsrub': ['', 'burst']}\n"
       ]
      }
     ],
     "prompt_number": 31
    },
    {
     "cell_type": "markdown",
     "metadata": {},
     "source": [
      "The `.answers` property returns the clue's possible answers or raises a `ClueUnsolvableException` if there are no answers. The first time a clue's `.answers` is requested, it automatically calls ClueTree.solve() and caches that answer so that subsequent requests for `.answers` will be instananeous.\n",
      "\n",
      "The format of a clue's answers is a dictionary in which each key is a possible answer and the corresponding value is the answers to the children of that clue which yielded the given answer. For example, the first answer given above is 'emat', with corresponding child answers of '' and 'tame'. The ordering of these sub-answers corresponds to the ordering in the `(rev (rev_ spin) (rev_arg (syn broken)))`, so the `rev_` reversal marker produced an empty string ('') and the `syn` synonym operator acting on 'broken' produced 'tame'. Reversing 'tame' gave the answer 'emit'. "
     ]
    },
    {
     "cell_type": "markdown",
     "metadata": {},
     "source": [
      "We can also ask any clue how it got a particular answer:"
     ]
    },
    {
     "cell_type": "code",
     "collapsed": false,
     "input": [
      "print clues[9][0][0].derivation('emat')"
     ],
     "language": "python",
     "metadata": {},
     "outputs": [
      {
       "output_type": "stream",
       "stream": "stdout",
       "text": [
        "(rev (rev_ \"spin\") (syn \"broken\" -> TAME) -> EMAT)\n"
       ]
      }
     ],
     "prompt_number": 32
    },
    {
     "cell_type": "markdown",
     "metadata": {},
     "source": [
      "If it's not clear what this means, we can also ask for a human-readible derivation:"
     ]
    },
    {
     "cell_type": "code",
     "collapsed": false,
     "input": [
      "print clues[9][0][0].long_derivation('emat')"
     ],
     "language": "python",
     "metadata": {},
     "outputs": [
      {
       "output_type": "stream",
       "stream": "stdout",
       "text": [
        "\n",
        "Take a synonym of 'broken' to get TAME.\n",
        "'spin' means to reverse 'tame' to get EMAT.\n"
       ]
      }
     ],
     "prompt_number": 33
    },
    {
     "cell_type": "markdown",
     "metadata": {},
     "source": [
      "We can ask for the derivation or long derivation of any of this sub-clue's answers:"
     ]
    },
    {
     "cell_type": "code",
     "collapsed": false,
     "input": [
      "print clues[9][0][0].long_derivation('tsrub')"
     ],
     "language": "python",
     "metadata": {},
     "outputs": [
      {
       "output_type": "stream",
       "stream": "stdout",
       "text": [
        "\n",
        "Take a synonym of 'broken' to get BURST.\n",
        "'spin' means to reverse 'burst' to get TSRUB.\n"
       ]
      }
     ],
     "prompt_number": 22
    },
    {
     "cell_type": "markdown",
     "metadata": {},
     "source": [
      "Now, let's find a clue that actually produces a final answer. How about this one:"
     ]
    },
    {
     "cell_type": "code",
     "collapsed": false,
     "input": [
      "print clues[15]\n",
      "print \"\\nAnswers:\", clues[15].answers\n",
      "print clues[15].long_derivation('english')"
     ],
     "language": "python",
     "metadata": {},
     "outputs": [
      {
       "output_type": "stream",
       "stream": "stdout",
       "text": [
        "(top (d spin) (clue_arg (ana (ana_ broken) (ana_arg (lit shingle)))))\n",
        "\n",
        "Answers: {'english': ['', 'english']}\n",
        "\n",
        "'spin' is the definition.\n",
        "'broken' means to anagram 'shingle' to get ENGLISH.\n"
       ]
      }
     ],
     "prompt_number": 25
    },
    {
     "cell_type": "markdown",
     "metadata": {},
     "source": [
      "In general, it would seem like generating all of these different clue interpretations and then solving them separately would be terribly inefficient. However, the way our parser is constructed ensures that identical sub-clues actually refer to the same python object, so solving one sub-clue solves all of its instances contained in other clues. We can check this easily:"
     ]
    },
    {
     "cell_type": "code",
     "collapsed": false,
     "input": [
      "print clues[0]"
     ],
     "language": "python",
     "metadata": {},
     "outputs": [
      {
       "output_type": "stream",
       "stream": "stdout",
       "text": [
        "(top (clue_arg (lit spin)) (clue_arg (syn broken)) (d shingle))\n"
       ]
      }
     ],
     "prompt_number": 34
    },
    {
     "cell_type": "code",
     "collapsed": false,
     "input": [
      "print clues[1]"
     ],
     "language": "python",
     "metadata": {},
     "outputs": [
      {
       "output_type": "stream",
       "stream": "stdout",
       "text": [
        "(top (clue_arg (lit spin)) (clue_arg (first broken)) (d shingle))\n"
       ]
      }
     ],
     "prompt_number": 35
    },
    {
     "cell_type": "code",
     "collapsed": false,
     "input": [
      "print clues[0][0]"
     ],
     "language": "python",
     "metadata": {},
     "outputs": [
      {
       "output_type": "stream",
       "stream": "stdout",
       "text": [
        "(clue_arg (lit spin))\n"
       ]
      }
     ],
     "prompt_number": 36
    },
    {
     "cell_type": "code",
     "collapsed": false,
     "input": [
      "print clues[1][0]"
     ],
     "language": "python",
     "metadata": {},
     "outputs": [
      {
       "output_type": "stream",
       "stream": "stdout",
       "text": [
        "(clue_arg (lit spin))\n"
       ]
      }
     ],
     "prompt_number": 37
    },
    {
     "cell_type": "code",
     "collapsed": false,
     "input": [
      "clues[0][0] is clues[1][0]"
     ],
     "language": "python",
     "metadata": {},
     "outputs": [
      {
       "metadata": {},
       "output_type": "pyout",
       "prompt_number": 38,
       "text": [
        "True"
       ]
      }
     ],
     "prompt_number": 38
    }
   ],
   "metadata": {}
  }
 ]
}